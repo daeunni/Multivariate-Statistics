{
 "cells": [
  {
   "cell_type": "markdown",
   "metadata": {},
   "source": [
    "# Factor Analysis"
   ]
  },
  {
   "cell_type": "markdown",
   "metadata": {},
   "source": [
    "## Q2"
   ]
  },
  {
   "cell_type": "code",
   "execution_count": 2,
   "metadata": {},
   "outputs": [],
   "source": [
    "import pandas as pd\n",
    "import numpy as np"
   ]
  },
  {
   "cell_type": "code",
   "execution_count": 10,
   "metadata": {},
   "outputs": [
    {
     "data": {
      "text/html": [
       "<div>\n",
       "<style scoped>\n",
       "    .dataframe tbody tr th:only-of-type {\n",
       "        vertical-align: middle;\n",
       "    }\n",
       "\n",
       "    .dataframe tbody tr th {\n",
       "        vertical-align: top;\n",
       "    }\n",
       "\n",
       "    .dataframe thead th {\n",
       "        text-align: right;\n",
       "    }\n",
       "</style>\n",
       "<table border=\"1\" class=\"dataframe\">\n",
       "  <thead>\n",
       "    <tr style=\"text-align: right;\">\n",
       "      <th></th>\n",
       "      <th>f1</th>\n",
       "      <th>f2</th>\n",
       "    </tr>\n",
       "  </thead>\n",
       "  <tbody>\n",
       "    <tr>\n",
       "      <th>0</th>\n",
       "      <td>0.789</td>\n",
       "      <td>-0.403</td>\n",
       "    </tr>\n",
       "    <tr>\n",
       "      <th>1</th>\n",
       "      <td>0.834</td>\n",
       "      <td>-0.234</td>\n",
       "    </tr>\n",
       "    <tr>\n",
       "      <th>2</th>\n",
       "      <td>0.740</td>\n",
       "      <td>-0.134</td>\n",
       "    </tr>\n",
       "    <tr>\n",
       "      <th>3</th>\n",
       "      <td>0.586</td>\n",
       "      <td>-0.185</td>\n",
       "    </tr>\n",
       "    <tr>\n",
       "      <th>4</th>\n",
       "      <td>0.676</td>\n",
       "      <td>-0.248</td>\n",
       "    </tr>\n",
       "    <tr>\n",
       "      <th>5</th>\n",
       "      <td>0.654</td>\n",
       "      <td>0.440</td>\n",
       "    </tr>\n",
       "    <tr>\n",
       "      <th>6</th>\n",
       "      <td>0.641</td>\n",
       "      <td>0.534</td>\n",
       "    </tr>\n",
       "    <tr>\n",
       "      <th>7</th>\n",
       "      <td>0.629</td>\n",
       "      <td>0.651</td>\n",
       "    </tr>\n",
       "    <tr>\n",
       "      <th>8</th>\n",
       "      <td>0.564</td>\n",
       "      <td>0.354</td>\n",
       "    </tr>\n",
       "    <tr>\n",
       "      <th>9</th>\n",
       "      <td>0.808</td>\n",
       "      <td>0.714</td>\n",
       "    </tr>\n",
       "  </tbody>\n",
       "</table>\n",
       "</div>"
      ],
      "text/plain": [
       "      f1     f2\n",
       "0  0.789 -0.403\n",
       "1  0.834 -0.234\n",
       "2  0.740 -0.134\n",
       "3  0.586 -0.185\n",
       "4  0.676 -0.248\n",
       "5  0.654  0.440\n",
       "6  0.641  0.534\n",
       "7  0.629  0.651\n",
       "8  0.564  0.354\n",
       "9  0.808  0.714"
      ]
     },
     "execution_count": 10,
     "metadata": {},
     "output_type": "execute_result"
    }
   ],
   "source": [
    "# 2번\n",
    "a = [0.789, 0.834, 0.74, 0.586, 0.676, 0.654, 0.641, 0.629, 0.564, 0.808]\n",
    "data = pd.DataFrame(a, columns=['f1'])\n",
    "data['f2'] = [-0.403, -0.234, -0.134, -0.185, -0.248, 0.44, 0.534, 0.651, 0.354, 0.714]\n",
    "data"
   ]
  },
  {
   "cell_type": "code",
   "execution_count": 26,
   "metadata": {},
   "outputs": [
    {
     "data": {
      "image/png": "[encoded data removed]",
      "text/plain": [
       "<Figure size 432x288 with 1 Axes>"
      ]
     },
     "metadata": {
      "needs_background": "light"
     },
     "output_type": "display_data"
    }
   ],
   "source": [
    "import matplotlib.pyplot as plt\n",
    "plt.scatter(data['f1'], data['f2'])\n",
    "plt.axis((0, 1, -0.5, 1))\n",
    "plt.title('#2 scatter plot')\n",
    "plt.axhline(y=0, color='r', linewidth=2)\n",
    "plt.xlabel('F1')\n",
    "plt.ylabel('F2')\n",
    "plt.show()"
   ]
  },
  {
   "cell_type": "code",
   "execution_count": 30,
   "metadata": {},
   "outputs": [],
   "source": [
    "from statsmodels.multivariate.factor_rotation import rotate_factors\n",
    "L, t = rotate_factors(data.values,'varimax')"
   ]
  },
  {
   "cell_type": "code",
   "execution_count": 99,
   "metadata": {},
   "outputs": [
    {
     "data": {
      "text/html": [
       "<div>\n",
       "<style scoped>\n",
       "    .dataframe tbody tr th:only-of-type {\n",
       "        vertical-align: middle;\n",
       "    }\n",
       "\n",
       "    .dataframe tbody tr th {\n",
       "        vertical-align: top;\n",
       "    }\n",
       "\n",
       "    .dataframe thead th {\n",
       "        text-align: right;\n",
       "    }\n",
       "</style>\n",
       "<table border=\"1\" class=\"dataframe\">\n",
       "  <thead>\n",
       "    <tr style=\"text-align: right;\">\n",
       "      <th></th>\n",
       "      <th>f1</th>\n",
       "      <th>f2</th>\n",
       "    </tr>\n",
       "  </thead>\n",
       "  <tbody>\n",
       "    <tr>\n",
       "      <th>0</th>\n",
       "      <td>0.873205</td>\n",
       "      <td>0.149812</td>\n",
       "    </tr>\n",
       "    <tr>\n",
       "      <th>1</th>\n",
       "      <td>0.808025</td>\n",
       "      <td>0.312101</td>\n",
       "    </tr>\n",
       "    <tr>\n",
       "      <th>2</th>\n",
       "      <td>0.672858</td>\n",
       "      <td>0.335885</td>\n",
       "    </tr>\n",
       "    <tr>\n",
       "      <th>3</th>\n",
       "      <td>0.580076</td>\n",
       "      <td>0.202811</td>\n",
       "    </tr>\n",
       "    <tr>\n",
       "      <th>4</th>\n",
       "      <td>0.689881</td>\n",
       "      <td>0.206262</td>\n",
       "    </tr>\n",
       "    <tr>\n",
       "      <th>5</th>\n",
       "      <td>0.260212</td>\n",
       "      <td>0.744047</td>\n",
       "    </tr>\n",
       "    <tr>\n",
       "      <th>6</th>\n",
       "      <td>0.193504</td>\n",
       "      <td>0.811538</td>\n",
       "    </tr>\n",
       "    <tr>\n",
       "      <th>7</th>\n",
       "      <td>0.113822</td>\n",
       "      <td>0.898046</td>\n",
       "    </tr>\n",
       "    <tr>\n",
       "      <th>8</th>\n",
       "      <td>0.239645</td>\n",
       "      <td>0.621275</td>\n",
       "    </tr>\n",
       "    <tr>\n",
       "      <th>9</th>\n",
       "      <td>0.219436</td>\n",
       "      <td>1.055702</td>\n",
       "    </tr>\n",
       "  </tbody>\n",
       "</table>\n",
       "</div>"
      ],
      "text/plain": [
       "         f1        f2\n",
       "0  0.873205  0.149812\n",
       "1  0.808025  0.312101\n",
       "2  0.672858  0.335885\n",
       "3  0.580076  0.202811\n",
       "4  0.689881  0.206262\n",
       "5  0.260212  0.744047\n",
       "6  0.193504  0.811538\n",
       "7  0.113822  0.898046\n",
       "8  0.239645  0.621275\n",
       "9  0.219436  1.055702"
      ]
     },
     "execution_count": 99,
     "metadata": {},
     "output_type": "execute_result"
    }
   ],
   "source": [
    "pd.DataFrame(L, columns=['f1', 'f2'] )  # varimax rotated 된 행렬 > negative가 사라짐"
   ]
  },
  {
   "cell_type": "code",
   "execution_count": 32,
   "metadata": {},
   "outputs": [
    {
     "data": {
      "text/plain": [
       "array([[ 0.8008154 ,  0.59891125],\n",
       "       [-0.59891125,  0.8008154 ]])"
      ]
     },
     "execution_count": 32,
     "metadata": {},
     "output_type": "execute_result"
    }
   ],
   "source": [
    "t  # othogonal matrix (m의 역할)"
   ]
  },
  {
   "cell_type": "code",
   "execution_count": 41,
   "metadata": {},
   "outputs": [
    {
     "data": {
      "text/plain": [
       "18.395981036486592"
      ]
     },
     "execution_count": 41,
     "metadata": {},
     "output_type": "execute_result"
    }
   ],
   "source": [
    "import math\n",
    "p1 = (0.789,-0.403)\n",
    "p2 = (0.87320459, 0.14981237)\n",
    "math.degrees(math.atan2(0.87320459-0.789,0.403-0.14981237))"
   ]
  },
  {
   "cell_type": "code",
   "execution_count": 45,
   "metadata": {},
   "outputs": [
    {
     "data": {
      "image/png": "[encoded data removed]",
      "text/plain": [
       "<Figure size 432x288 with 1 Axes>"
      ]
     },
     "metadata": {
      "needs_background": "light"
     },
     "output_type": "display_data"
    }
   ],
   "source": [
    "l_data = pd.DataFrame(L, columns=['f1', 'f2'])\n",
    "plt.scatter(l_data['f1'], l_data['f2'])\n",
    "plt.axis((0, 1, -0.5, 1))\n",
    "plt.title('#2 scatter plot')\n",
    "plt.axhline(y=0, color='r', linewidth=2)\n",
    "plt.xlabel('F1')\n",
    "plt.ylabel('F2')\n",
    "plt.show()"
   ]
  },
  {
   "cell_type": "markdown",
   "metadata": {},
   "source": [
    "## Q4"
   ]
  },
  {
   "cell_type": "code",
   "execution_count": 48,
   "metadata": {},
   "outputs": [
    {
     "data": {
      "text/html": [
       "<div>\n",
       "<style scoped>\n",
       "    .dataframe tbody tr th:only-of-type {\n",
       "        vertical-align: middle;\n",
       "    }\n",
       "\n",
       "    .dataframe tbody tr th {\n",
       "        vertical-align: top;\n",
       "    }\n",
       "\n",
       "    .dataframe thead th {\n",
       "        text-align: right;\n",
       "    }\n",
       "</style>\n",
       "<table border=\"1\" class=\"dataframe\">\n",
       "  <thead>\n",
       "    <tr style=\"text-align: right;\">\n",
       "      <th></th>\n",
       "      <th>X1</th>\n",
       "      <th>X2</th>\n",
       "      <th>X3</th>\n",
       "      <th>X4</th>\n",
       "      <th>X5</th>\n",
       "      <th>X6</th>\n",
       "      <th>X7</th>\n",
       "    </tr>\n",
       "  </thead>\n",
       "  <tbody>\n",
       "    <tr>\n",
       "      <th>0</th>\n",
       "      <td>93.0</td>\n",
       "      <td>96.0</td>\n",
       "      <td>97.8</td>\n",
       "      <td>9</td>\n",
       "      <td>12</td>\n",
       "      <td>9</td>\n",
       "      <td>20</td>\n",
       "    </tr>\n",
       "    <tr>\n",
       "      <th>1</th>\n",
       "      <td>88.8</td>\n",
       "      <td>91.8</td>\n",
       "      <td>96.8</td>\n",
       "      <td>7</td>\n",
       "      <td>10</td>\n",
       "      <td>10</td>\n",
       "      <td>15</td>\n",
       "    </tr>\n",
       "    <tr>\n",
       "      <th>2</th>\n",
       "      <td>95.0</td>\n",
       "      <td>100.3</td>\n",
       "      <td>99.0</td>\n",
       "      <td>8</td>\n",
       "      <td>12</td>\n",
       "      <td>9</td>\n",
       "      <td>26</td>\n",
       "    </tr>\n",
       "    <tr>\n",
       "      <th>3</th>\n",
       "      <td>101.3</td>\n",
       "      <td>103.8</td>\n",
       "      <td>106.8</td>\n",
       "      <td>13</td>\n",
       "      <td>14</td>\n",
       "      <td>12</td>\n",
       "      <td>29</td>\n",
       "    </tr>\n",
       "    <tr>\n",
       "      <th>4</th>\n",
       "      <td>102.0</td>\n",
       "      <td>107.8</td>\n",
       "      <td>103.0</td>\n",
       "      <td>10</td>\n",
       "      <td>15</td>\n",
       "      <td>12</td>\n",
       "      <td>32</td>\n",
       "    </tr>\n",
       "  </tbody>\n",
       "</table>\n",
       "</div>"
      ],
      "text/plain": [
       "      X1     X2     X3  X4  X5  X6  X7\n",
       "0   93.0   96.0   97.8   9  12   9  20\n",
       "1   88.8   91.8   96.8   7  10  10  15\n",
       "2   95.0  100.3   99.0   8  12   9  26\n",
       "3  101.3  103.8  106.8  13  14  12  29\n",
       "4  102.0  107.8  103.0  10  15  12  32"
      ]
     },
     "execution_count": 48,
     "metadata": {},
     "output_type": "execute_result"
    }
   ],
   "source": [
    "dt = pd.read_table('sales.dat', sep='\\s+')\n",
    "dt.head()"
   ]
  },
  {
   "cell_type": "code",
   "execution_count": 49,
   "metadata": {},
   "outputs": [
    {
     "data": {
      "text/plain": [
       "(50, 7)"
      ]
     },
     "execution_count": 49,
     "metadata": {},
     "output_type": "execute_result"
    }
   ],
   "source": [
    "dt.shape"
   ]
  },
  {
   "cell_type": "code",
   "execution_count": 102,
   "metadata": {},
   "outputs": [
    {
     "data": {
      "text/html": [
       "<div>\n",
       "<style scoped>\n",
       "    .dataframe tbody tr th:only-of-type {\n",
       "        vertical-align: middle;\n",
       "    }\n",
       "\n",
       "    .dataframe tbody tr th {\n",
       "        vertical-align: top;\n",
       "    }\n",
       "\n",
       "    .dataframe thead th {\n",
       "        text-align: right;\n",
       "    }\n",
       "</style>\n",
       "<table border=\"1\" class=\"dataframe\">\n",
       "  <thead>\n",
       "    <tr style=\"text-align: right;\">\n",
       "      <th></th>\n",
       "      <th>X1</th>\n",
       "      <th>X2</th>\n",
       "      <th>X3</th>\n",
       "      <th>X4</th>\n",
       "      <th>X5</th>\n",
       "      <th>X6</th>\n",
       "      <th>X7</th>\n",
       "    </tr>\n",
       "  </thead>\n",
       "  <tbody>\n",
       "    <tr>\n",
       "      <th>X1</th>\n",
       "      <td>1.000000</td>\n",
       "      <td>0.926076</td>\n",
       "      <td>0.884002</td>\n",
       "      <td>0.572036</td>\n",
       "      <td>0.708074</td>\n",
       "      <td>0.674407</td>\n",
       "      <td>0.927312</td>\n",
       "    </tr>\n",
       "    <tr>\n",
       "      <th>X2</th>\n",
       "      <td>0.926076</td>\n",
       "      <td>1.000000</td>\n",
       "      <td>0.842523</td>\n",
       "      <td>0.541508</td>\n",
       "      <td>0.745910</td>\n",
       "      <td>0.465388</td>\n",
       "      <td>0.944296</td>\n",
       "    </tr>\n",
       "    <tr>\n",
       "      <th>X3</th>\n",
       "      <td>0.884002</td>\n",
       "      <td>0.842523</td>\n",
       "      <td>1.000000</td>\n",
       "      <td>0.700363</td>\n",
       "      <td>0.637471</td>\n",
       "      <td>0.641089</td>\n",
       "      <td>0.852568</td>\n",
       "    </tr>\n",
       "    <tr>\n",
       "      <th>X4</th>\n",
       "      <td>0.572036</td>\n",
       "      <td>0.541508</td>\n",
       "      <td>0.700363</td>\n",
       "      <td>1.000000</td>\n",
       "      <td>0.590736</td>\n",
       "      <td>0.146907</td>\n",
       "      <td>0.412639</td>\n",
       "    </tr>\n",
       "    <tr>\n",
       "      <th>X5</th>\n",
       "      <td>0.708074</td>\n",
       "      <td>0.745910</td>\n",
       "      <td>0.637471</td>\n",
       "      <td>0.590736</td>\n",
       "      <td>1.000000</td>\n",
       "      <td>0.385950</td>\n",
       "      <td>0.574553</td>\n",
       "    </tr>\n",
       "    <tr>\n",
       "      <th>X6</th>\n",
       "      <td>0.674407</td>\n",
       "      <td>0.465388</td>\n",
       "      <td>0.641089</td>\n",
       "      <td>0.146907</td>\n",
       "      <td>0.385950</td>\n",
       "      <td>1.000000</td>\n",
       "      <td>0.566372</td>\n",
       "    </tr>\n",
       "    <tr>\n",
       "      <th>X7</th>\n",
       "      <td>0.927312</td>\n",
       "      <td>0.944296</td>\n",
       "      <td>0.852568</td>\n",
       "      <td>0.412639</td>\n",
       "      <td>0.574553</td>\n",
       "      <td>0.566372</td>\n",
       "      <td>1.000000</td>\n",
       "    </tr>\n",
       "  </tbody>\n",
       "</table>\n",
       "</div>"
      ],
      "text/plain": [
       "          X1        X2        X3        X4        X5        X6        X7\n",
       "X1  1.000000  0.926076  0.884002  0.572036  0.708074  0.674407  0.927312\n",
       "X2  0.926076  1.000000  0.842523  0.541508  0.745910  0.465388  0.944296\n",
       "X3  0.884002  0.842523  1.000000  0.700363  0.637471  0.641089  0.852568\n",
       "X4  0.572036  0.541508  0.700363  1.000000  0.590736  0.146907  0.412639\n",
       "X5  0.708074  0.745910  0.637471  0.590736  1.000000  0.385950  0.574553\n",
       "X6  0.674407  0.465388  0.641089  0.146907  0.385950  1.000000  0.566372\n",
       "X7  0.927312  0.944296  0.852568  0.412639  0.574553  0.566372  1.000000"
      ]
     },
     "execution_count": 102,
     "metadata": {},
     "output_type": "execute_result"
    }
   ],
   "source": [
    "corr = dt.corr()\n",
    "corr   # 상관계수 행렬"
   ]
  },
  {
   "cell_type": "code",
   "execution_count": 53,
   "metadata": {},
   "outputs": [
    {
     "name": "stdout",
     "output_type": "stream",
     "text": [
      "Collecting factor-analyzer\n",
      "  Downloading factor_analyzer-0.3.2.tar.gz (40 kB)\n",
      "Requirement already satisfied: pandas in c:\\programdata\\anaconda3\\lib\\site-packages (from factor-analyzer) (1.0.3)\n",
      "Requirement already satisfied: scipy in c:\\users\\이다은\\appdata\\roaming\\python\\python37\\site-packages (from factor-analyzer) (1.4.1)\n",
      "Requirement already satisfied: numpy in c:\\programdata\\anaconda3\\lib\\site-packages (from factor-analyzer) (1.18.1)\n",
      "Requirement already satisfied: scikit-learn in c:\\users\\이다은\\appdata\\roaming\\python\\python37\\site-packages (from factor-analyzer) (0.22.2.post1)\n",
      "Requirement already satisfied: pytz>=2017.2 in c:\\programdata\\anaconda3\\lib\\site-packages (from pandas->factor-analyzer) (2020.1)\n",
      "Requirement already satisfied: python-dateutil>=2.6.1 in c:\\programdata\\anaconda3\\lib\\site-packages (from pandas->factor-analyzer) (2.8.1)\n",
      "Requirement already satisfied: joblib>=0.11 in c:\\programdata\\anaconda3\\lib\\site-packages (from scikit-learn->factor-analyzer) (0.14.1)\n",
      "Requirement already satisfied: six>=1.5 in c:\\programdata\\anaconda3\\lib\\site-packages (from python-dateutil>=2.6.1->pandas->factor-analyzer) (1.14.0)\n",
      "Building wheels for collected packages: factor-analyzer\n",
      "  Building wheel for factor-analyzer (setup.py): started\n",
      "  Building wheel for factor-analyzer (setup.py): finished with status 'done'\n",
      "  Created wheel for factor-analyzer: filename=factor_analyzer-0.3.2-py3-none-any.whl size=40383 sha256=db8f5da35e0ecf74167ffa5c34e9d02a366751bda6059f337503010ed9ddcbb8\n",
      "  Stored in directory: c:\\users\\이다은\\appdata\\local\\pip\\cache\\wheels\\8d\\9e\\4c\\fd4cb92cecf157b13702cc0907e5c56ddc48e5388134dc9f1a\n",
      "Successfully built factor-analyzer\n",
      "Installing collected packages: factor-analyzer\n",
      "Successfully installed factor-analyzer-0.3.2\n"
     ]
    }
   ],
   "source": [
    "# (a) \n",
    "!pip install factor-analyzer"
   ]
  },
  {
   "cell_type": "code",
   "execution_count": 103,
   "metadata": {},
   "outputs": [
    {
     "data": {
      "text/html": [
       "<div>\n",
       "<style scoped>\n",
       "    .dataframe tbody tr th:only-of-type {\n",
       "        vertical-align: middle;\n",
       "    }\n",
       "\n",
       "    .dataframe tbody tr th {\n",
       "        vertical-align: top;\n",
       "    }\n",
       "\n",
       "    .dataframe thead th {\n",
       "        text-align: right;\n",
       "    }\n",
       "</style>\n",
       "<table border=\"1\" class=\"dataframe\">\n",
       "  <thead>\n",
       "    <tr style=\"text-align: right;\">\n",
       "      <th></th>\n",
       "      <th>0</th>\n",
       "      <th>1</th>\n",
       "    </tr>\n",
       "  </thead>\n",
       "  <tbody>\n",
       "    <tr>\n",
       "      <th>X1</th>\n",
       "      <td>0.695462</td>\n",
       "      <td>0.668687</td>\n",
       "    </tr>\n",
       "    <tr>\n",
       "      <th>X2</th>\n",
       "      <td>0.668684</td>\n",
       "      <td>0.694606</td>\n",
       "    </tr>\n",
       "    <tr>\n",
       "      <th>X3</th>\n",
       "      <td>0.795465</td>\n",
       "      <td>0.493887</td>\n",
       "    </tr>\n",
       "    <tr>\n",
       "      <th>X4</th>\n",
       "      <td>0.983381</td>\n",
       "      <td>-0.167255</td>\n",
       "    </tr>\n",
       "    <tr>\n",
       "      <th>X5</th>\n",
       "      <td>0.654960</td>\n",
       "      <td>0.312152</td>\n",
       "    </tr>\n",
       "    <tr>\n",
       "      <th>X6</th>\n",
       "      <td>0.249826</td>\n",
       "      <td>0.569168</td>\n",
       "    </tr>\n",
       "    <tr>\n",
       "      <th>X7</th>\n",
       "      <td>0.557796</td>\n",
       "      <td>0.812432</td>\n",
       "    </tr>\n",
       "  </tbody>\n",
       "</table>\n",
       "</div>"
      ],
      "text/plain": [
       "           0         1\n",
       "X1  0.695462  0.668687\n",
       "X2  0.668684  0.694606\n",
       "X3  0.795465  0.493887\n",
       "X4  0.983381 -0.167255\n",
       "X5  0.654960  0.312152\n",
       "X6  0.249826  0.569168\n",
       "X7  0.557796  0.812432"
      ]
     },
     "execution_count": 103,
     "metadata": {},
     "output_type": "execute_result"
    }
   ],
   "source": [
    "from factor_analyzer import FactorAnalyzer\n",
    "fa = FactorAnalyzer(n_factors=2, rotation=None, method='ml')  # method : MLE\n",
    "fa.fit(dt)\n",
    "efa = pd.DataFrame(fa.loadings_, index=dt.columns)  # loadings\n",
    "efa"
   ]
  },
  {
   "cell_type": "code",
   "execution_count": 106,
   "metadata": {
    "scrolled": true
   },
   "outputs": [
    {
     "data": {
      "text/plain": [
       "array([[0.93080929, 0.92951872, 0.88347177, 0.57206268, 0.66423218,\n",
       "        0.55433935, 0.93118843],\n",
       "       [0.92951872, 0.929617  , 0.87497264, 0.54139516, 0.65478492,\n",
       "        0.56240225, 0.93730997],\n",
       "       [0.88347177, 0.87497264, 0.87668988, 0.6996404 , 0.67516645,\n",
       "        0.47983248, 0.84495734],\n",
       "       [0.57206268, 0.54139516, 0.6996404 , 0.99501211, 0.59186648,\n",
       "        0.15047765, 0.41264306],\n",
       "       [0.66423218, 0.65478492, 0.67516645, 0.59186648, 0.52641225,\n",
       "        0.34129307, 0.61893701],\n",
       "       [0.55433935, 0.56240225, 0.47983248, 0.15047765, 0.34129307,\n",
       "        0.38636501, 0.60176188],\n",
       "       [0.93118843, 0.93730997, 0.84495734, 0.41264306, 0.61893701,\n",
       "        0.60176188, 0.9711819 ]])"
      ]
     },
     "execution_count": 106,
     "metadata": {},
     "output_type": "execute_result"
    }
   ],
   "source": [
    "fa.loadings_.dot(fa.loadings_.T)"
   ]
  },
  {
   "cell_type": "code",
   "execution_count": 108,
   "metadata": {},
   "outputs": [
    {
     "data": {
      "text/plain": [
       "array([[ 6.91907116e-02, -3.44293888e-03,  5.30501486e-04,\n",
       "        -2.63858185e-05,  4.38416260e-02,  1.20067969e-01,\n",
       "        -3.87685868e-03],\n",
       "       [-3.44293888e-03,  7.03829997e-02, -3.24494118e-02,\n",
       "         1.12868431e-04,  9.11248202e-02, -9.70142275e-02,\n",
       "         6.98600305e-03],\n",
       "       [ 5.30501486e-04, -3.24494118e-02,  1.23310124e-01,\n",
       "         7.22631686e-04, -3.76952902e-02,  1.61256132e-01,\n",
       "         7.61082260e-03],\n",
       "       [-2.63858185e-05,  1.12868431e-04,  7.22631686e-04,\n",
       "         4.98788867e-03, -1.13043038e-03, -3.57022337e-03,\n",
       "        -3.61020201e-06],\n",
       "       [ 4.38416260e-02,  9.11248202e-02, -3.76952902e-02,\n",
       "        -1.13043038e-03,  4.73587752e-01,  4.46571389e-02,\n",
       "        -4.43837467e-02],\n",
       "       [ 1.20067969e-01, -9.70142275e-02,  1.61256132e-01,\n",
       "        -3.57022337e-03,  4.46571389e-02,  6.13634994e-01,\n",
       "        -3.53897307e-02],\n",
       "       [-3.87685868e-03,  6.98600305e-03,  7.61082260e-03,\n",
       "        -3.61020201e-06, -4.43837467e-02, -3.53897307e-02,\n",
       "         2.88180967e-02]])"
      ]
     },
     "execution_count": 108,
     "metadata": {},
     "output_type": "execute_result"
    }
   ],
   "source": [
    "corr.values- fa.loadings_.dot(fa.loadings_.T)"
   ]
  },
  {
   "cell_type": "code",
   "execution_count": 78,
   "metadata": {},
   "outputs": [
    {
     "data": {
      "text/plain": [
       "<matplotlib.axes._subplots.AxesSubplot at 0x1af723baac8>"
      ]
     },
     "execution_count": 78,
     "metadata": {},
     "output_type": "execute_result"
    },
    {
     "data": {
      "image/png": "[encoded data removed]",
      "text/plain": [
       "<Figure size 432x288 with 2 Axes>"
      ]
     },
     "metadata": {
      "needs_background": "light"
     },
     "output_type": "display_data"
    }
   ],
   "source": [
    "import seaborn as sns\n",
    "sns.heatmap(efa, cmap='Blues', annot=True, fmt='.2f')  # lodings "
   ]
  },
  {
   "cell_type": "code",
   "execution_count": 79,
   "metadata": {},
   "outputs": [
    {
     "data": {
      "text/plain": [
       "array([0.93080929, 0.929617  , 0.87668988, 0.99501211, 0.52641225,\n",
       "       0.38636501, 0.9711819 ])"
      ]
     },
     "execution_count": 79,
     "metadata": {},
     "output_type": "execute_result"
    }
   ],
   "source": [
    "fa.get_communalities()   # communality : 공통핟"
   ]
  },
  {
   "cell_type": "code",
   "execution_count": 80,
   "metadata": {},
   "outputs": [
    {
     "data": {
      "text/plain": [
       "(array([3.33313154, 2.2829559 ]),\n",
       " array([0.47616165, 0.32613656]),\n",
       " array([0.47616165, 0.8022982 ]))"
      ]
     },
     "execution_count": 80,
     "metadata": {},
     "output_type": "execute_result"
    }
   ],
   "source": [
    "fa.get_factor_variance()  # commulative variance"
   ]
  },
  {
   "cell_type": "code",
   "execution_count": 81,
   "metadata": {},
   "outputs": [
    {
     "data": {
      "text/plain": [
       "array([[-0.69446457, -0.68141286],\n",
       "       [-1.236005  , -0.83388622],\n",
       "       [-0.83091801,  0.03670817],\n",
       "       [ 0.42089738, -0.28026267],\n",
       "       [-0.22622991,  0.50110996],\n",
       "       [-0.4241712 , -0.63950867],\n",
       "       [-0.61562602, -0.21323081],\n",
       "       [ 1.92299548,  0.97251001],\n",
       "       [-0.21799837,  0.50929109],\n",
       "       [ 0.80860065,  0.56449271],\n",
       "       [ 0.247734  ,  0.23407612],\n",
       "       [-0.24753837,  0.37877057],\n",
       "       [ 1.18986367, -0.28757083],\n",
       "       [-0.69685391,  0.8283811 ],\n",
       "       [ 0.43229284, -0.08344282],\n",
       "       [-1.28272714, -1.0374573 ],\n",
       "       [-0.0248397 ,  0.21234152],\n",
       "       [ 0.04343762,  0.58966097],\n",
       "       [-1.41898557,  1.05564128],\n",
       "       [ 1.29658418, -1.17679046],\n",
       "       [-0.55659709, -1.36970054],\n",
       "       [-1.24933347,  2.10857769],\n",
       "       [-0.79566705, -1.22519505],\n",
       "       [ 0.32338795,  0.69603   ],\n",
       "       [ 1.30540825,  0.35132036],\n",
       "       [-0.41488451, -0.55896883],\n",
       "       [ 0.82785503,  0.61135189],\n",
       "       [ 0.00724787,  1.94299085],\n",
       "       [-0.95727591, -0.73697006],\n",
       "       [-0.25675773,  1.83976613],\n",
       "       [ 1.77381779,  0.14307752],\n",
       "       [ 0.06704422, -2.26592294],\n",
       "       [-1.01123662,  0.43855109],\n",
       "       [-0.46810216, -0.88124456],\n",
       "       [ 1.78075073,  0.15022751],\n",
       "       [-0.46719582,  2.15134486],\n",
       "       [ 1.35381104, -2.32951335],\n",
       "       [ 0.37657091, -0.46108483],\n",
       "       [ 1.10849223,  0.71460668],\n",
       "       [ 0.81982822,  0.52211505],\n",
       "       [-0.43121482,  0.76940051],\n",
       "       [ 0.26221127, -1.11653616],\n",
       "       [ 1.40179098, -0.58694822],\n",
       "       [-2.64505445, -0.00525343],\n",
       "       [-1.05220079,  0.18408355],\n",
       "       [ 1.67711503, -0.43209032],\n",
       "       [-1.20911532, -0.74130117],\n",
       "       [-1.11863117, -1.62771902],\n",
       "       [ 0.73955249,  0.14401024],\n",
       "       [ 0.36233491,  0.92157365]])"
      ]
     },
     "execution_count": 81,
     "metadata": {},
     "output_type": "execute_result"
    }
   ],
   "source": [
    "fa.transform(dt)  # factor scores"
   ]
  },
  {
   "cell_type": "code",
   "execution_count": 70,
   "metadata": {},
   "outputs": [
    {
     "data": {
      "text/html": [
       "<div>\n",
       "<style scoped>\n",
       "    .dataframe tbody tr th:only-of-type {\n",
       "        vertical-align: middle;\n",
       "    }\n",
       "\n",
       "    .dataframe tbody tr th {\n",
       "        vertical-align: top;\n",
       "    }\n",
       "\n",
       "    .dataframe thead th {\n",
       "        text-align: right;\n",
       "    }\n",
       "</style>\n",
       "<table border=\"1\" class=\"dataframe\">\n",
       "  <thead>\n",
       "    <tr style=\"text-align: right;\">\n",
       "      <th></th>\n",
       "      <th>0</th>\n",
       "      <th>1</th>\n",
       "      <th>2</th>\n",
       "    </tr>\n",
       "  </thead>\n",
       "  <tbody>\n",
       "    <tr>\n",
       "      <th>X1</th>\n",
       "      <td>0.900907</td>\n",
       "      <td>0.381379</td>\n",
       "      <td>-0.065919</td>\n",
       "    </tr>\n",
       "    <tr>\n",
       "      <th>X2</th>\n",
       "      <td>0.775087</td>\n",
       "      <td>0.600262</td>\n",
       "      <td>0.066672</td>\n",
       "    </tr>\n",
       "    <tr>\n",
       "      <th>X3</th>\n",
       "      <td>0.931382</td>\n",
       "      <td>0.201860</td>\n",
       "      <td>0.060450</td>\n",
       "    </tr>\n",
       "    <tr>\n",
       "      <th>X4</th>\n",
       "      <td>0.732921</td>\n",
       "      <td>-0.117818</td>\n",
       "      <td>0.666325</td>\n",
       "    </tr>\n",
       "    <tr>\n",
       "      <th>X5</th>\n",
       "      <td>0.688611</td>\n",
       "      <td>0.224777</td>\n",
       "      <td>0.169335</td>\n",
       "    </tr>\n",
       "    <tr>\n",
       "      <th>X6</th>\n",
       "      <td>0.757289</td>\n",
       "      <td>-0.131814</td>\n",
       "      <td>-0.635744</td>\n",
       "    </tr>\n",
       "    <tr>\n",
       "      <th>X7</th>\n",
       "      <td>0.761734</td>\n",
       "      <td>0.608315</td>\n",
       "      <td>-0.110473</td>\n",
       "    </tr>\n",
       "  </tbody>\n",
       "</table>\n",
       "</div>"
      ],
      "text/plain": [
       "           0         1         2\n",
       "X1  0.900907  0.381379 -0.065919\n",
       "X2  0.775087  0.600262  0.066672\n",
       "X3  0.931382  0.201860  0.060450\n",
       "X4  0.732921 -0.117818  0.666325\n",
       "X5  0.688611  0.224777  0.169335\n",
       "X6  0.757289 -0.131814 -0.635744\n",
       "X7  0.761734  0.608315 -0.110473"
      ]
     },
     "execution_count": 70,
     "metadata": {},
     "output_type": "execute_result"
    }
   ],
   "source": [
    "## factor 3개일 때 \n",
    "from factor_analyzer import FactorAnalyzer\n",
    "fa = FactorAnalyzer(n_factors=3, rotation=None, method='ml')  # method : MLE\n",
    "fa.fit(dt)\n",
    "efa = pd.DataFrame(fa.loadings_, index=dt.columns)  # loadings\n",
    "efa"
   ]
  },
  {
   "cell_type": "code",
   "execution_count": 71,
   "metadata": {},
   "outputs": [
    {
     "data": {
      "text/plain": [
       "<matplotlib.axes._subplots.AxesSubplot at 0x1af72326708>"
      ]
     },
     "execution_count": 71,
     "metadata": {},
     "output_type": "execute_result"
    },
    {
     "data": {
      "image/png": "[encoded data removed]",
      "text/plain": [
       "<Figure size 432x288 with 2 Axes>"
      ]
     },
     "metadata": {
      "needs_background": "light"
     },
     "output_type": "display_data"
    }
   ],
   "source": [
    "sns.heatmap(efa, cmap='Blues', annot=True, fmt='.2f')"
   ]
  },
  {
   "cell_type": "code",
   "execution_count": 110,
   "metadata": {},
   "outputs": [
    {
     "data": {
      "text/plain": [
       "array([[0.93080929, 0.92951872, 0.88347177, 0.57206268, 0.66423218,\n",
       "        0.55433935, 0.93118843],\n",
       "       [0.92951872, 0.929617  , 0.87497264, 0.54139516, 0.65478492,\n",
       "        0.56240225, 0.93730997],\n",
       "       [0.88347177, 0.87497264, 0.87668988, 0.6996404 , 0.67516645,\n",
       "        0.47983248, 0.84495734],\n",
       "       [0.57206268, 0.54139516, 0.6996404 , 0.99501211, 0.59186648,\n",
       "        0.15047765, 0.41264306],\n",
       "       [0.66423218, 0.65478492, 0.67516645, 0.59186648, 0.52641225,\n",
       "        0.34129307, 0.61893701],\n",
       "       [0.55433935, 0.56240225, 0.47983248, 0.15047765, 0.34129307,\n",
       "        0.38636501, 0.60176188],\n",
       "       [0.93118843, 0.93730997, 0.84495734, 0.41264306, 0.61893701,\n",
       "        0.60176188, 0.9711819 ]])"
      ]
     },
     "execution_count": 110,
     "metadata": {},
     "output_type": "execute_result"
    }
   ],
   "source": [
    "fa.loadings_.dot(fa.loadings_.T)"
   ]
  },
  {
   "cell_type": "code",
   "execution_count": 72,
   "metadata": {},
   "outputs": [
    {
     "data": {
      "text/plain": [
       "array([0.96142891, 0.96551978, 0.91187482, 0.99504336, 0.55338332,\n",
       "       0.99503169, 0.96248922])"
      ]
     },
     "execution_count": 72,
     "metadata": {},
     "output_type": "execute_result"
    }
   ],
   "source": [
    "fa.get_communalities()   # communality : 공통핟"
   ]
  },
  {
   "cell_type": "code",
   "execution_count": 73,
   "metadata": {},
   "outputs": [
    {
     "data": {
      "text/plain": [
       "(array([4.44495002, 0.99833842, 0.90148265]),\n",
       " array([0.63499286, 0.14261977, 0.12878324]),\n",
       " array([0.63499286, 0.77761263, 0.90639587]))"
      ]
     },
     "execution_count": 73,
     "metadata": {},
     "output_type": "execute_result"
    }
   ],
   "source": [
    "fa.get_factor_variance()  # commulative variance"
   ]
  },
  {
   "cell_type": "code",
   "execution_count": 76,
   "metadata": {},
   "outputs": [
    {
     "data": {
      "text/plain": [
       "array([[-9.33112375e-01, -3.62275258e-01,  1.11414219e-01],\n",
       "       [-1.06961693e+00, -1.05077074e+00, -6.29789827e-01],\n",
       "       [-9.57458509e-01,  4.56649352e-01, -9.42877152e-02],\n",
       "       [ 6.20769031e-01, -9.22690657e-01, -1.52503031e-01],\n",
       "       [ 2.61210621e-01, -1.62728344e-02, -7.53323419e-01],\n",
       "       [-2.41618518e-01, -1.04883455e+00, -3.91691270e-01],\n",
       "       [-8.34695972e-01,  1.96899017e-01,  1.04712047e-01],\n",
       "       [ 2.48955641e+00, -4.10268637e-01, -2.26628067e-01],\n",
       "       [ 5.25077000e-01, -3.71937182e-01, -1.10062779e+00],\n",
       "       [ 7.30339466e-01,  8.54179085e-01,  3.90155943e-01],\n",
       "       [ 5.62707192e-01, -2.04805214e-01, -3.52798174e-01],\n",
       "       [-7.51996382e-01,  1.57871514e+00,  6.57625396e-01],\n",
       "       [ 8.95462376e-01, -2.71002088e-01,  7.95429287e-01],\n",
       "       [-2.93244978e-01,  5.82679686e-01, -8.07134007e-01],\n",
       "       [-3.66122637e-01,  9.19274591e-01,  1.24026857e+00],\n",
       "       [-2.38843681e+00,  6.96742599e-01,  1.13042030e+00],\n",
       "       [ 1.09416636e-01,  1.78945262e-03, -2.07966855e-01],\n",
       "       [ 2.03568956e-01,  5.52785877e-01, -2.07541834e-01],\n",
       "       [-2.58523064e-01, -4.06092368e-02, -2.09054889e+00],\n",
       "       [ 8.72062764e-01, -1.37410323e+00,  1.00268943e+00],\n",
       "       [-1.40479625e+00, -2.75466644e-01,  1.02311862e+00],\n",
       "       [-5.40585647e-01,  2.08287753e+00, -1.40378560e+00],\n",
       "       [-1.56597419e+00, -2.47108318e-01,  8.18769578e-01],\n",
       "       [ 6.58583231e-01,  3.63266569e-01, -3.59260483e-01],\n",
       "       [ 1.30178644e+00,  2.34682760e-01,  4.44567990e-01],\n",
       "       [-1.22440639e+00,  7.28559806e-01,  1.01458548e+00],\n",
       "       [ 9.97679440e-01,  4.00230731e-01,  4.01442521e-02],\n",
       "       [ 2.92197648e-01,  2.10305788e+00, -4.21563043e-01],\n",
       "       [-1.26103270e-01, -2.17117507e+00, -1.48877841e+00],\n",
       "       [ 1.29671178e-01,  2.08150242e+00, -6.10046208e-01],\n",
       "       [ 1.07510830e+00,  7.11873844e-01,  1.53503331e+00],\n",
       "       [-8.15211721e-01, -1.60943615e+00,  1.27540966e+00],\n",
       "       [-5.33123672e-01,  1.57302106e-01, -9.90449899e-01],\n",
       "       [-3.00809513e-01, -1.38756224e+00, -3.91292180e-01],\n",
       "       [ 1.09270440e+00,  8.02759306e-01,  1.53956815e+00],\n",
       "       [ 7.37381889e-01,  9.75239612e-01, -1.87216853e+00],\n",
       "       [ 4.39176836e-02, -1.51470868e+00,  2.26844009e+00],\n",
       "       [ 1.05655771e+00, -2.00255305e+00, -8.61495860e-01],\n",
       "       [ 1.20584402e+00,  6.39449060e-01,  2.41581785e-01],\n",
       "       [ 9.94405934e-01,  3.68365385e-01,  4.67795538e-02],\n",
       "       [ 4.06105465e-01, -9.27698241e-02, -1.29967701e+00],\n",
       "       [-1.07544334e+00,  5.68277253e-01,  1.96477783e+00],\n",
       "       [ 7.69332129e-01, -1.15297612e-01,  1.35232486e+00],\n",
       "       [-2.20733269e+00, -3.85939021e-02, -1.47424756e+00],\n",
       "       [-5.82395234e-01, -1.27733888e-01, -9.85487202e-01],\n",
       "       [ 1.44400167e+00, -8.80088319e-01,  8.37996078e-01],\n",
       "       [-7.75616484e-01, -1.19980996e+00, -9.71065719e-01],\n",
       "       [-1.56531523e+00, -1.10054003e+00,  2.80348256e-01],\n",
       "       [ 8.70595925e-01, -3.46332412e-01,  3.56203901e-02],\n",
       "       [ 4.65896297e-01,  1.12558668e+00, -7.62247657e-03]])"
      ]
     },
     "execution_count": 76,
     "metadata": {},
     "output_type": "execute_result"
    }
   ],
   "source": [
    "fa.transform(dt)  # factor scores"
   ]
  }
 ],
 "metadata": {
  "kernelspec": {
   "display_name": "Python 3",
   "language": "python",
   "name": "python3"
  },
  "language_info": {
   "codemirror_mode": {
    "name": "ipython",
    "version": 3
   },
   "file_extension": ".py",
   "mimetype": "text/x-python",
   "name": "python",
   "nbconvert_exporter": "python",
   "pygments_lexer": "ipython3",
   "version": "3.7.7"
  }
 },
 "nbformat": 4,
 "nbformat_minor": 4
}
