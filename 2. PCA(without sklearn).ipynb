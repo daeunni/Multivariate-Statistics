{
 "cells": [
  {
   "cell_type": "markdown",
   "metadata": {},
   "source": [
    "# PCA(Principal Component)"
   ]
  },
  {
   "cell_type": "markdown",
   "metadata": {},
   "source": [
    "## Q1"
   ]
  },
  {
   "cell_type": "code",
   "execution_count": 1,
   "metadata": {},
   "outputs": [],
   "source": [
    "import pandas as pd\n",
    "import numpy as np\n",
    "import seaborn as sns\n",
    "from matplotlib import pyplot as plt\n",
    "dt = pd.read_table('airpollution.dat', sep=\"\\s+\")"
   ]
  },
  {
   "cell_type": "code",
   "execution_count": 9,
   "metadata": {},
   "outputs": [
    {
     "data": {
      "text/html": [
       "<div>\n",
       "<style scoped>\n",
       "    .dataframe tbody tr th:only-of-type {\n",
       "        vertical-align: middle;\n",
       "    }\n",
       "\n",
       "    .dataframe tbody tr th {\n",
       "        vertical-align: top;\n",
       "    }\n",
       "\n",
       "    .dataframe thead th {\n",
       "        text-align: right;\n",
       "    }\n",
       "</style>\n",
       "<table border=\"1\" class=\"dataframe\">\n",
       "  <thead>\n",
       "    <tr style=\"text-align: right;\">\n",
       "      <th></th>\n",
       "      <th>X1</th>\n",
       "      <th>X2</th>\n",
       "      <th>X3</th>\n",
       "      <th>X4</th>\n",
       "      <th>X5</th>\n",
       "      <th>X6</th>\n",
       "      <th>X7</th>\n",
       "    </tr>\n",
       "  </thead>\n",
       "  <tbody>\n",
       "    <tr>\n",
       "      <th>0</th>\n",
       "      <td>8</td>\n",
       "      <td>98</td>\n",
       "      <td>7</td>\n",
       "      <td>2</td>\n",
       "      <td>12</td>\n",
       "      <td>8</td>\n",
       "      <td>2</td>\n",
       "    </tr>\n",
       "    <tr>\n",
       "      <th>1</th>\n",
       "      <td>7</td>\n",
       "      <td>107</td>\n",
       "      <td>4</td>\n",
       "      <td>3</td>\n",
       "      <td>9</td>\n",
       "      <td>5</td>\n",
       "      <td>3</td>\n",
       "    </tr>\n",
       "    <tr>\n",
       "      <th>2</th>\n",
       "      <td>7</td>\n",
       "      <td>103</td>\n",
       "      <td>4</td>\n",
       "      <td>3</td>\n",
       "      <td>5</td>\n",
       "      <td>6</td>\n",
       "      <td>3</td>\n",
       "    </tr>\n",
       "    <tr>\n",
       "      <th>3</th>\n",
       "      <td>10</td>\n",
       "      <td>88</td>\n",
       "      <td>5</td>\n",
       "      <td>2</td>\n",
       "      <td>8</td>\n",
       "      <td>15</td>\n",
       "      <td>4</td>\n",
       "    </tr>\n",
       "    <tr>\n",
       "      <th>4</th>\n",
       "      <td>6</td>\n",
       "      <td>91</td>\n",
       "      <td>4</td>\n",
       "      <td>2</td>\n",
       "      <td>8</td>\n",
       "      <td>10</td>\n",
       "      <td>3</td>\n",
       "    </tr>\n",
       "  </tbody>\n",
       "</table>\n",
       "</div>"
      ],
      "text/plain": [
       "   X1   X2  X3  X4  X5  X6  X7\n",
       "0   8   98   7   2  12   8   2\n",
       "1   7  107   4   3   9   5   3\n",
       "2   7  103   4   3   5   6   3\n",
       "3  10   88   5   2   8  15   4\n",
       "4   6   91   4   2   8  10   3"
      ]
     },
     "execution_count": 9,
     "metadata": {},
     "output_type": "execute_result"
    }
   ],
   "source": [
    "dt.head()"
   ]
  },
  {
   "cell_type": "markdown",
   "metadata": {},
   "source": [
    "공분산 행렬로 PCA를 진행하면, 데이터의 단위나 치우침에 영향을 많이 받는다.      \n",
    "따라서 상관계수 행렬을 사용하면 효율적일 수 있다"
   ]
  },
  {
   "cell_type": "code",
   "execution_count": 10,
   "metadata": {},
   "outputs": [
    {
     "data": {
      "text/plain": [
       "(42, 7)"
      ]
     },
     "execution_count": 10,
     "metadata": {},
     "output_type": "execute_result"
    }
   ],
   "source": [
    "dt.shape  # 42일에 특정 장소를 관찰한 것"
   ]
  },
  {
   "cell_type": "code",
   "execution_count": 17,
   "metadata": {},
   "outputs": [
    {
     "data": {
      "text/html": [
       "<div>\n",
       "<style scoped>\n",
       "    .dataframe tbody tr th:only-of-type {\n",
       "        vertical-align: middle;\n",
       "    }\n",
       "\n",
       "    .dataframe tbody tr th {\n",
       "        vertical-align: top;\n",
       "    }\n",
       "\n",
       "    .dataframe thead th {\n",
       "        text-align: right;\n",
       "    }\n",
       "</style>\n",
       "<table border=\"1\" class=\"dataframe\">\n",
       "  <thead>\n",
       "    <tr style=\"text-align: right;\">\n",
       "      <th></th>\n",
       "      <th>X1</th>\n",
       "      <th>X2</th>\n",
       "      <th>X3</th>\n",
       "      <th>X4</th>\n",
       "      <th>X5</th>\n",
       "      <th>X6</th>\n",
       "      <th>X7</th>\n",
       "    </tr>\n",
       "  </thead>\n",
       "  <tbody>\n",
       "    <tr>\n",
       "      <th>X1</th>\n",
       "      <td>2.500000</td>\n",
       "      <td>-2.780488</td>\n",
       "      <td>-0.378049</td>\n",
       "      <td>-0.463415</td>\n",
       "      <td>-0.585366</td>\n",
       "      <td>-2.231707</td>\n",
       "      <td>0.170732</td>\n",
       "    </tr>\n",
       "    <tr>\n",
       "      <th>X2</th>\n",
       "      <td>-2.780488</td>\n",
       "      <td>300.515679</td>\n",
       "      <td>3.909408</td>\n",
       "      <td>-1.386760</td>\n",
       "      <td>6.763066</td>\n",
       "      <td>30.790941</td>\n",
       "      <td>0.623693</td>\n",
       "    </tr>\n",
       "    <tr>\n",
       "      <th>X3</th>\n",
       "      <td>-0.378049</td>\n",
       "      <td>3.909408</td>\n",
       "      <td>1.522067</td>\n",
       "      <td>0.673635</td>\n",
       "      <td>2.314750</td>\n",
       "      <td>2.821719</td>\n",
       "      <td>0.141696</td>\n",
       "    </tr>\n",
       "    <tr>\n",
       "      <th>X4</th>\n",
       "      <td>-0.463415</td>\n",
       "      <td>-1.386760</td>\n",
       "      <td>0.673635</td>\n",
       "      <td>1.182346</td>\n",
       "      <td>1.088269</td>\n",
       "      <td>-0.810685</td>\n",
       "      <td>0.176539</td>\n",
       "    </tr>\n",
       "    <tr>\n",
       "      <th>X5</th>\n",
       "      <td>-0.585366</td>\n",
       "      <td>6.763066</td>\n",
       "      <td>2.314750</td>\n",
       "      <td>1.088269</td>\n",
       "      <td>11.363531</td>\n",
       "      <td>3.126597</td>\n",
       "      <td>1.044135</td>\n",
       "    </tr>\n",
       "    <tr>\n",
       "      <th>X6</th>\n",
       "      <td>-2.231707</td>\n",
       "      <td>30.790941</td>\n",
       "      <td>2.821719</td>\n",
       "      <td>-0.810685</td>\n",
       "      <td>3.126597</td>\n",
       "      <td>30.978513</td>\n",
       "      <td>0.594657</td>\n",
       "    </tr>\n",
       "    <tr>\n",
       "      <th>X7</th>\n",
       "      <td>0.170732</td>\n",
       "      <td>0.623693</td>\n",
       "      <td>0.141696</td>\n",
       "      <td>0.176539</td>\n",
       "      <td>1.044135</td>\n",
       "      <td>0.594657</td>\n",
       "      <td>0.478513</td>\n",
       "    </tr>\n",
       "  </tbody>\n",
       "</table>\n",
       "</div>"
      ],
      "text/plain": [
       "          X1          X2        X3        X4         X5         X6        X7\n",
       "X1  2.500000   -2.780488 -0.378049 -0.463415  -0.585366  -2.231707  0.170732\n",
       "X2 -2.780488  300.515679  3.909408 -1.386760   6.763066  30.790941  0.623693\n",
       "X3 -0.378049    3.909408  1.522067  0.673635   2.314750   2.821719  0.141696\n",
       "X4 -0.463415   -1.386760  0.673635  1.182346   1.088269  -0.810685  0.176539\n",
       "X5 -0.585366    6.763066  2.314750  1.088269  11.363531   3.126597  1.044135\n",
       "X6 -2.231707   30.790941  2.821719 -0.810685   3.126597  30.978513  0.594657\n",
       "X7  0.170732    0.623693  0.141696  0.176539   1.044135   0.594657  0.478513"
      ]
     },
     "execution_count": 17,
     "metadata": {},
     "output_type": "execute_result"
    }
   ],
   "source": [
    "# 표본 공분산 행렬 (변수별 선형 연관도)\n",
    "cov_matrix = dt.cov() \n",
    "cov_matrix"
   ]
  },
  {
   "cell_type": "code",
   "execution_count": 18,
   "metadata": {},
   "outputs": [
    {
     "data": {
      "text/html": [
       "<div>\n",
       "<style scoped>\n",
       "    .dataframe tbody tr th:only-of-type {\n",
       "        vertical-align: middle;\n",
       "    }\n",
       "\n",
       "    .dataframe tbody tr th {\n",
       "        vertical-align: top;\n",
       "    }\n",
       "\n",
       "    .dataframe thead th {\n",
       "        text-align: right;\n",
       "    }\n",
       "</style>\n",
       "<table border=\"1\" class=\"dataframe\">\n",
       "  <thead>\n",
       "    <tr style=\"text-align: right;\">\n",
       "      <th></th>\n",
       "      <th>X1</th>\n",
       "      <th>X2</th>\n",
       "      <th>X3</th>\n",
       "      <th>X4</th>\n",
       "      <th>X5</th>\n",
       "      <th>X6</th>\n",
       "      <th>X7</th>\n",
       "    </tr>\n",
       "  </thead>\n",
       "  <tbody>\n",
       "    <tr>\n",
       "      <th>X1</th>\n",
       "      <td>1.000000</td>\n",
       "      <td>-0.101442</td>\n",
       "      <td>-0.193803</td>\n",
       "      <td>-0.269543</td>\n",
       "      <td>-0.109825</td>\n",
       "      <td>-0.253593</td>\n",
       "      <td>0.156098</td>\n",
       "    </tr>\n",
       "    <tr>\n",
       "      <th>X2</th>\n",
       "      <td>-0.101442</td>\n",
       "      <td>1.000000</td>\n",
       "      <td>0.182793</td>\n",
       "      <td>-0.073569</td>\n",
       "      <td>0.115732</td>\n",
       "      <td>0.319124</td>\n",
       "      <td>0.052010</td>\n",
       "    </tr>\n",
       "    <tr>\n",
       "      <th>X3</th>\n",
       "      <td>-0.193803</td>\n",
       "      <td>0.182793</td>\n",
       "      <td>1.000000</td>\n",
       "      <td>0.502152</td>\n",
       "      <td>0.556584</td>\n",
       "      <td>0.410929</td>\n",
       "      <td>0.166032</td>\n",
       "    </tr>\n",
       "    <tr>\n",
       "      <th>X4</th>\n",
       "      <td>-0.269543</td>\n",
       "      <td>-0.073569</td>\n",
       "      <td>0.502152</td>\n",
       "      <td>1.000000</td>\n",
       "      <td>0.296898</td>\n",
       "      <td>-0.133952</td>\n",
       "      <td>0.234704</td>\n",
       "    </tr>\n",
       "    <tr>\n",
       "      <th>X5</th>\n",
       "      <td>-0.109825</td>\n",
       "      <td>0.115732</td>\n",
       "      <td>0.556584</td>\n",
       "      <td>0.296898</td>\n",
       "      <td>1.000000</td>\n",
       "      <td>0.166642</td>\n",
       "      <td>0.447768</td>\n",
       "    </tr>\n",
       "    <tr>\n",
       "      <th>X6</th>\n",
       "      <td>-0.253593</td>\n",
       "      <td>0.319124</td>\n",
       "      <td>0.410929</td>\n",
       "      <td>-0.133952</td>\n",
       "      <td>0.166642</td>\n",
       "      <td>1.000000</td>\n",
       "      <td>0.154451</td>\n",
       "    </tr>\n",
       "    <tr>\n",
       "      <th>X7</th>\n",
       "      <td>0.156098</td>\n",
       "      <td>0.052010</td>\n",
       "      <td>0.166032</td>\n",
       "      <td>0.234704</td>\n",
       "      <td>0.447768</td>\n",
       "      <td>0.154451</td>\n",
       "      <td>1.000000</td>\n",
       "    </tr>\n",
       "  </tbody>\n",
       "</table>\n",
       "</div>"
      ],
      "text/plain": [
       "          X1        X2        X3        X4        X5        X6        X7\n",
       "X1  1.000000 -0.101442 -0.193803 -0.269543 -0.109825 -0.253593  0.156098\n",
       "X2 -0.101442  1.000000  0.182793 -0.073569  0.115732  0.319124  0.052010\n",
       "X3 -0.193803  0.182793  1.000000  0.502152  0.556584  0.410929  0.166032\n",
       "X4 -0.269543 -0.073569  0.502152  1.000000  0.296898 -0.133952  0.234704\n",
       "X5 -0.109825  0.115732  0.556584  0.296898  1.000000  0.166642  0.447768\n",
       "X6 -0.253593  0.319124  0.410929 -0.133952  0.166642  1.000000  0.154451\n",
       "X7  0.156098  0.052010  0.166032  0.234704  0.447768  0.154451  1.000000"
      ]
     },
     "execution_count": 18,
     "metadata": {},
     "output_type": "execute_result"
    }
   ],
   "source": [
    "# 표본 상관계수 행렬\n",
    "corr_matrix = dt.corr()\n",
    "corr_matrix"
   ]
  },
  {
   "cell_type": "markdown",
   "metadata": {},
   "source": [
    "### Cov_matrix's Eigen values/vec"
   ]
  },
  {
   "cell_type": "code",
   "execution_count": 19,
   "metadata": {},
   "outputs": [
    {
     "data": {
      "text/plain": [
       "(array([3.04257864e+02, 2.82761046e+01, 1.14644830e+01, 2.52432956e+00,\n",
       "        1.27952466e+00, 2.09615710e-01, 5.28728802e-01]),\n",
       " array([[-1.00392444e-02,  7.62243931e-02, -3.08776133e-02,\n",
       "         -9.20304575e-01,  3.42385929e-01, -1.69729925e-01,\n",
       "          1.17790791e-02],\n",
       "        [ 9.93199405e-01,  1.16155184e-01, -6.59069041e-03,\n",
       "          2.11867902e-04,  2.23910224e-03, -1.78198685e-03,\n",
       "          3.35321831e-03],\n",
       "        [ 1.40623139e-02, -9.95677536e-02,  1.82826406e-01,\n",
       "          1.38292241e-01,  6.50077606e-01,  4.43577538e-01,\n",
       "         -5.63893916e-01],\n",
       "        [-4.71017476e-03,  1.32042303e-02,  1.30215530e-01,\n",
       "          3.27784262e-01,  6.43156049e-01, -4.62855916e-01,\n",
       "          4.97513370e-01],\n",
       "        [ 2.42556443e-02, -1.50381126e-01,  9.55263184e-01,\n",
       "         -1.02371902e-01, -2.06584040e-01, -1.05029951e-01,\n",
       "         -9.00929937e-03],\n",
       "        [ 1.12429558e-01, -9.73359044e-01, -1.69810247e-01,\n",
       "         -6.32480276e-02, -2.93572560e-04, -6.69924043e-02,\n",
       "          5.10672539e-02],\n",
       "        [ 2.34078499e-03, -2.38204601e-02,  8.51955762e-02,\n",
       "         -1.09507346e-01,  6.19613872e-02,  7.38019426e-01,\n",
       "          6.57012233e-01]]))"
      ]
     },
     "execution_count": 19,
     "metadata": {},
     "output_type": "execute_result"
    }
   ],
   "source": [
    "np.linalg.eig(cov_matrix)  # eigen_values, eigen_vectors"
   ]
  },
  {
   "cell_type": "code",
   "execution_count": 23,
   "metadata": {},
   "outputs": [
    {
     "data": {
      "text/plain": [
       "array([8.72948001e-01, 8.11271357e-02, 3.28928146e-02, 7.24256858e-03,\n",
       "       3.67109161e-03, 6.01409649e-04, 1.51697887e-03])"
      ]
     },
     "execution_count": 23,
     "metadata": {},
     "output_type": "execute_result"
    }
   ],
   "source": [
    "# total variance와 설명력 비교\n",
    "cov_sum = np.sum(np.linalg.eig(cov_matrix)[0])   # total variance\n",
    "np.linalg.eig(cov_matrix)[0]/cov_sum"
   ]
  },
  {
   "cell_type": "markdown",
   "metadata": {},
   "source": [
    "80% 정도가 principle component에 의해 설명됨"
   ]
  },
  {
   "cell_type": "code",
   "execution_count": 71,
   "metadata": {},
   "outputs": [
    {
     "data": {
      "image/png": "[encoded data removed]",
      "text/plain": [
       "<Figure size 432x288 with 1 Axes>"
      ]
     },
     "metadata": {
      "needs_background": "light"
     },
     "output_type": "display_data"
    }
   ],
   "source": [
    "# scree plot\n",
    "eigen_val = np.linalg.eig(cov_matrix)[0]\n",
    "np.sort(eigen_val)\n",
    "index=['PC1', 'PC2', 'PC3', 'PC4', 'PC5','PC6', 'PC7']\n",
    "plt.plot(index, eigen_val, 'ro-')\n",
    "plt.xlabel('Component Number')\n",
    "plt.ylabel('Variances')\n",
    "plt.title('Covariance Scree Diagram')\n",
    "plt.axhline(y=49.79152148664349, color='b', linewidth=2)\n",
    "plt.grid(True)\n",
    "plt.show()"
   ]
  },
  {
   "cell_type": "code",
   "execution_count": 65,
   "metadata": {},
   "outputs": [
    {
     "data": {
      "text/plain": [
       "49.79152148664349"
      ]
     },
     "execution_count": 65,
     "metadata": {},
     "output_type": "execute_result"
    }
   ],
   "source": [
    "# Kaiser's rule\n",
    "cov_sum/corr_sum   # 49보다 설명력 낮은 친구들은 버리기"
   ]
  },
  {
   "cell_type": "markdown",
   "metadata": {},
   "source": [
    "### Corr_matrix's Eigen values/vec"
   ]
  },
  {
   "cell_type": "code",
   "execution_count": 20,
   "metadata": {},
   "outputs": [
    {
     "data": {
      "text/plain": [
       "(array([2.33678264, 0.15589895, 1.38600067, 1.20406593, 0.53668879,\n",
       "        0.65347654, 0.72708648]),\n",
       " array([[ 0.23682109, -0.24146701,  0.27844514, -0.64347435,  0.22357922,\n",
       "         -0.56053441,  0.17271949],\n",
       "        [-0.20556654, -0.01126548, -0.52661387, -0.22446898,  0.00570085,\n",
       "          0.15613432,  0.7781366 ],\n",
       "        [-0.55108389,  0.58524622, -0.0068195 ,  0.11360892,  0.10953891,\n",
       "         -0.57342221,  0.0053018 ],\n",
       "        [-0.37761508, -0.46088973,  0.43467425,  0.40709777,  0.45023478,\n",
       "          0.0566907 ,  0.29050305],\n",
       "        [-0.49801614, -0.33784371,  0.19976737, -0.19655673, -0.74496871,\n",
       "         -0.0502143 , -0.04242818],\n",
       "        [-0.32455063, -0.41707805, -0.56697365, -0.15984653,  0.33058307,\n",
       "         -0.08024349, -0.5079159 ],\n",
       "        [-0.31940315,  0.31391372,  0.30788277, -0.54104842,  0.26646981,\n",
       "          0.56607057, -0.14308235]]))"
      ]
     },
     "execution_count": 20,
     "metadata": {},
     "output_type": "execute_result"
    }
   ],
   "source": [
    "np.linalg.eig(corr_matrix)  # eigen_values, eigen_vectors"
   ]
  },
  {
   "cell_type": "code",
   "execution_count": 26,
   "metadata": {},
   "outputs": [
    {
     "data": {
      "text/plain": [
       "array([0.33382609, 0.02227128, 0.1980001 , 0.17200942, 0.07666983,\n",
       "       0.09335379, 0.1038695 ])"
      ]
     },
     "execution_count": 26,
     "metadata": {},
     "output_type": "execute_result"
    }
   ],
   "source": [
    "# total variance와 설명력 비교\n",
    "corr_sum = np.sum(np.linalg.eig(corr_matrix)[0])  # total variance\n",
    "np.linalg.eig(corr_matrix)[0]/corr_sum"
   ]
  },
  {
   "cell_type": "markdown",
   "metadata": {},
   "source": [
    "33%가 principle components에 의해 설명됨"
   ]
  },
  {
   "cell_type": "code",
   "execution_count": 59,
   "metadata": {},
   "outputs": [
    {
     "data": {
      "text/plain": [
       "array([0.15589895, 0.53668879, 0.65347654, 0.72708648, 1.20406593,\n",
       "       1.38600067, 2.33678264])"
      ]
     },
     "execution_count": 59,
     "metadata": {},
     "output_type": "execute_result"
    }
   ],
   "source": [
    "eigen_val = np.linalg.eig(corr_matrix)[0]\n",
    "eigen_val = np.sort(eigen_val)\n",
    "eigen_val"
   ]
  },
  {
   "cell_type": "code",
   "execution_count": 72,
   "metadata": {},
   "outputs": [
    {
     "data": {
      "image/png": "[encoded data removed]",
      "text/plain": [
       "<Figure size 432x288 with 1 Axes>"
      ]
     },
     "metadata": {
      "needs_background": "light"
     },
     "output_type": "display_data"
    }
   ],
   "source": [
    "index=['PC1', 'PC2', 'PC3', 'PC4', 'PC5','PC6', 'PC7']\n",
    "plt.plot(index, [ 2.33678264,1.38600067, 1.20406593,0.72708648,0.65347654,0.53668879,0.15589895], 'bs-')\n",
    "plt.xlabel('Component Number')\n",
    "plt.ylabel('Variances')\n",
    "plt.title('Correlation Scree Diagram')\n",
    "plt.grid(True)\n",
    "plt.plot([1.0])\n",
    "plt.axhline(y=1, color='r', linewidth=2)\n",
    "plt.show()"
   ]
  },
  {
   "cell_type": "markdown",
   "metadata": {},
   "source": [
    "corr matrix에서 나온 component는 elbow plot이 두드러지지 않는 수준임!"
   ]
  },
  {
   "cell_type": "code",
   "execution_count": 73,
   "metadata": {},
   "outputs": [],
   "source": [
    "# Kaiser's rule에 따라 eigen values가 1보다 낮은건 버리기!"
   ]
  },
  {
   "cell_type": "markdown",
   "metadata": {},
   "source": [
    "## Q2"
   ]
  },
  {
   "cell_type": "code",
   "execution_count": 2,
   "metadata": {},
   "outputs": [
    {
     "data": {
      "text/html": [
       "<div>\n",
       "<style scoped>\n",
       "    .dataframe tbody tr th:only-of-type {\n",
       "        vertical-align: middle;\n",
       "    }\n",
       "\n",
       "    .dataframe tbody tr th {\n",
       "        vertical-align: top;\n",
       "    }\n",
       "\n",
       "    .dataframe thead th {\n",
       "        text-align: right;\n",
       "    }\n",
       "</style>\n",
       "<table border=\"1\" class=\"dataframe\">\n",
       "  <thead>\n",
       "    <tr style=\"text-align: right;\">\n",
       "      <th></th>\n",
       "      <th>JP Morgan</th>\n",
       "      <th>Citibank</th>\n",
       "      <th>Wells Fargo</th>\n",
       "      <th>Royal Dutch Shell</th>\n",
       "      <th>Exxon Mobil</th>\n",
       "    </tr>\n",
       "  </thead>\n",
       "  <tbody>\n",
       "    <tr>\n",
       "      <th>0</th>\n",
       "      <td>0.013034</td>\n",
       "      <td>-0.007843</td>\n",
       "      <td>-0.003189</td>\n",
       "      <td>-0.044769</td>\n",
       "      <td>0.005215</td>\n",
       "    </tr>\n",
       "    <tr>\n",
       "      <th>1</th>\n",
       "      <td>0.008486</td>\n",
       "      <td>0.016689</td>\n",
       "      <td>-0.006210</td>\n",
       "      <td>0.011956</td>\n",
       "      <td>0.013489</td>\n",
       "    </tr>\n",
       "    <tr>\n",
       "      <th>2</th>\n",
       "      <td>-0.017915</td>\n",
       "      <td>-0.008639</td>\n",
       "      <td>0.010036</td>\n",
       "      <td>0.000000</td>\n",
       "      <td>-0.006143</td>\n",
       "    </tr>\n",
       "    <tr>\n",
       "      <th>3</th>\n",
       "      <td>0.021559</td>\n",
       "      <td>-0.003486</td>\n",
       "      <td>0.017435</td>\n",
       "      <td>-0.028592</td>\n",
       "      <td>-0.006953</td>\n",
       "    </tr>\n",
       "    <tr>\n",
       "      <th>4</th>\n",
       "      <td>0.010822</td>\n",
       "      <td>0.003717</td>\n",
       "      <td>-0.010134</td>\n",
       "      <td>0.029190</td>\n",
       "      <td>0.040975</td>\n",
       "    </tr>\n",
       "  </tbody>\n",
       "</table>\n",
       "</div>"
      ],
      "text/plain": [
       "   JP Morgan  Citibank  Wells Fargo   Royal Dutch Shell  Exxon Mobil\n",
       "0   0.013034 -0.007843     -0.003189          -0.044769     0.005215\n",
       "1   0.008486  0.016689     -0.006210           0.011956     0.013489\n",
       "2  -0.017915 -0.008639      0.010036           0.000000    -0.006143\n",
       "3   0.021559 -0.003486      0.017435          -0.028592    -0.006953\n",
       "4   0.010822  0.003717     -0.010134           0.029190     0.040975"
      ]
     },
     "execution_count": 2,
     "metadata": {},
     "output_type": "execute_result"
    }
   ],
   "source": [
    "dt = pd.read_table('stock.dat', sep=\"\\s+\", names=[\"JP Morgan\", \"Citibank\", \"Wells Fargo \", \"Royal Dutch Shell\", \"Exxon Mobil\"])\n",
    "dt.head()"
   ]
  },
  {
   "cell_type": "code",
   "execution_count": 3,
   "metadata": {},
   "outputs": [
    {
     "data": {
      "text/plain": [
       "(103, 5)"
      ]
     },
     "execution_count": 3,
     "metadata": {},
     "output_type": "execute_result"
    }
   ],
   "source": [
    "dt.shape  # 42일에 특정 장소를 관찰한 것"
   ]
  },
  {
   "cell_type": "code",
   "execution_count": 4,
   "metadata": {},
   "outputs": [
    {
     "data": {
      "text/html": [
       "<div>\n",
       "<style scoped>\n",
       "    .dataframe tbody tr th:only-of-type {\n",
       "        vertical-align: middle;\n",
       "    }\n",
       "\n",
       "    .dataframe tbody tr th {\n",
       "        vertical-align: top;\n",
       "    }\n",
       "\n",
       "    .dataframe thead th {\n",
       "        text-align: right;\n",
       "    }\n",
       "</style>\n",
       "<table border=\"1\" class=\"dataframe\">\n",
       "  <thead>\n",
       "    <tr style=\"text-align: right;\">\n",
       "      <th></th>\n",
       "      <th>JP Morgan</th>\n",
       "      <th>Citibank</th>\n",
       "      <th>Wells Fargo</th>\n",
       "      <th>Royal Dutch Shell</th>\n",
       "      <th>Exxon Mobil</th>\n",
       "    </tr>\n",
       "  </thead>\n",
       "  <tbody>\n",
       "    <tr>\n",
       "      <th>JP Morgan</th>\n",
       "      <td>0.000433</td>\n",
       "      <td>0.000276</td>\n",
       "      <td>0.000159</td>\n",
       "      <td>0.000064</td>\n",
       "      <td>0.000089</td>\n",
       "    </tr>\n",
       "    <tr>\n",
       "      <th>Citibank</th>\n",
       "      <td>0.000276</td>\n",
       "      <td>0.000439</td>\n",
       "      <td>0.000180</td>\n",
       "      <td>0.000181</td>\n",
       "      <td>0.000123</td>\n",
       "    </tr>\n",
       "    <tr>\n",
       "      <th>Wells Fargo</th>\n",
       "      <td>0.000159</td>\n",
       "      <td>0.000180</td>\n",
       "      <td>0.000224</td>\n",
       "      <td>0.000073</td>\n",
       "      <td>0.000061</td>\n",
       "    </tr>\n",
       "    <tr>\n",
       "      <th>Royal Dutch Shell</th>\n",
       "      <td>0.000064</td>\n",
       "      <td>0.000181</td>\n",
       "      <td>0.000073</td>\n",
       "      <td>0.000722</td>\n",
       "      <td>0.000508</td>\n",
       "    </tr>\n",
       "    <tr>\n",
       "      <th>Exxon Mobil</th>\n",
       "      <td>0.000089</td>\n",
       "      <td>0.000123</td>\n",
       "      <td>0.000061</td>\n",
       "      <td>0.000508</td>\n",
       "      <td>0.000766</td>\n",
       "    </tr>\n",
       "  </tbody>\n",
       "</table>\n",
       "</div>"
      ],
      "text/plain": [
       "                   JP Morgan  Citibank  Wells Fargo   Royal Dutch Shell  \\\n",
       "JP Morgan           0.000433  0.000276      0.000159           0.000064   \n",
       "Citibank            0.000276  0.000439      0.000180           0.000181   \n",
       "Wells Fargo         0.000159  0.000180      0.000224           0.000073   \n",
       "Royal Dutch Shell   0.000064  0.000181      0.000073           0.000722   \n",
       "Exxon Mobil         0.000089  0.000123      0.000061           0.000508   \n",
       "\n",
       "                   Exxon Mobil  \n",
       "JP Morgan             0.000089  \n",
       "Citibank              0.000123  \n",
       "Wells Fargo           0.000061  \n",
       "Royal Dutch Shell     0.000508  \n",
       "Exxon Mobil           0.000766  "
      ]
     },
     "execution_count": 4,
     "metadata": {},
     "output_type": "execute_result"
    }
   ],
   "source": [
    "# 표본 공분산 행렬 (변수별 선형 연관도)\n",
    "cov_matrix = dt.cov() \n",
    "cov_matrix"
   ]
  },
  {
   "cell_type": "code",
   "execution_count": 5,
   "metadata": {},
   "outputs": [
    {
     "data": {
      "text/html": [
       "<div>\n",
       "<style scoped>\n",
       "    .dataframe tbody tr th:only-of-type {\n",
       "        vertical-align: middle;\n",
       "    }\n",
       "\n",
       "    .dataframe tbody tr th {\n",
       "        vertical-align: top;\n",
       "    }\n",
       "\n",
       "    .dataframe thead th {\n",
       "        text-align: right;\n",
       "    }\n",
       "</style>\n",
       "<table border=\"1\" class=\"dataframe\">\n",
       "  <thead>\n",
       "    <tr style=\"text-align: right;\">\n",
       "      <th></th>\n",
       "      <th>JP Morgan</th>\n",
       "      <th>Citibank</th>\n",
       "      <th>Wells Fargo</th>\n",
       "      <th>Royal Dutch Shell</th>\n",
       "      <th>Exxon Mobil</th>\n",
       "    </tr>\n",
       "  </thead>\n",
       "  <tbody>\n",
       "    <tr>\n",
       "      <th>JP Morgan</th>\n",
       "      <td>1.000000</td>\n",
       "      <td>0.632288</td>\n",
       "      <td>0.510497</td>\n",
       "      <td>0.114602</td>\n",
       "      <td>0.154463</td>\n",
       "    </tr>\n",
       "    <tr>\n",
       "      <th>Citibank</th>\n",
       "      <td>0.632288</td>\n",
       "      <td>1.000000</td>\n",
       "      <td>0.574142</td>\n",
       "      <td>0.322292</td>\n",
       "      <td>0.212675</td>\n",
       "    </tr>\n",
       "    <tr>\n",
       "      <th>Wells Fargo</th>\n",
       "      <td>0.510497</td>\n",
       "      <td>0.574142</td>\n",
       "      <td>1.000000</td>\n",
       "      <td>0.182499</td>\n",
       "      <td>0.146207</td>\n",
       "    </tr>\n",
       "    <tr>\n",
       "      <th>Royal Dutch Shell</th>\n",
       "      <td>0.114602</td>\n",
       "      <td>0.322292</td>\n",
       "      <td>0.182499</td>\n",
       "      <td>1.000000</td>\n",
       "      <td>0.683378</td>\n",
       "    </tr>\n",
       "    <tr>\n",
       "      <th>Exxon Mobil</th>\n",
       "      <td>0.154463</td>\n",
       "      <td>0.212675</td>\n",
       "      <td>0.146207</td>\n",
       "      <td>0.683378</td>\n",
       "      <td>1.000000</td>\n",
       "    </tr>\n",
       "  </tbody>\n",
       "</table>\n",
       "</div>"
      ],
      "text/plain": [
       "                   JP Morgan  Citibank  Wells Fargo   Royal Dutch Shell  \\\n",
       "JP Morgan           1.000000  0.632288      0.510497           0.114602   \n",
       "Citibank            0.632288  1.000000      0.574142           0.322292   \n",
       "Wells Fargo         0.510497  0.574142      1.000000           0.182499   \n",
       "Royal Dutch Shell   0.114602  0.322292      0.182499           1.000000   \n",
       "Exxon Mobil         0.154463  0.212675      0.146207           0.683378   \n",
       "\n",
       "                   Exxon Mobil  \n",
       "JP Morgan             0.154463  \n",
       "Citibank              0.212675  \n",
       "Wells Fargo           0.146207  \n",
       "Royal Dutch Shell     0.683378  \n",
       "Exxon Mobil           1.000000  "
      ]
     },
     "execution_count": 5,
     "metadata": {},
     "output_type": "execute_result"
    }
   ],
   "source": [
    "# 표본 상관계수 행렬\n",
    "corr_matrix = dt.corr()\n",
    "corr_matrix"
   ]
  },
  {
   "cell_type": "markdown",
   "metadata": {},
   "source": [
    "### Cov_matrix's Eigen values/vec"
   ]
  },
  {
   "cell_type": "code",
   "execution_count": 20,
   "metadata": {},
   "outputs": [
    {
     "data": {
      "text/plain": [
       "(array([0.00136768, 0.00070116, 0.0002538 , 0.0001426 , 0.00011889]),\n",
       " array([[ 0.22282283,  0.62522603, -0.32611218, -0.662759  ,  0.11765952],\n",
       "        [ 0.30728997,  0.57039003,  0.24959014,  0.4140935 , -0.58860803],\n",
       "        [ 0.1548103 ,  0.34450492,  0.03763929,  0.49704993,  0.78030428],\n",
       "        [ 0.63896798, -0.24794753,  0.64249741, -0.30886888,  0.14845546],\n",
       "        [ 0.65090441, -0.32184779, -0.64586064,  0.21637575, -0.09371777]]))"
      ]
     },
     "execution_count": 20,
     "metadata": {},
     "output_type": "execute_result"
    }
   ],
   "source": [
    "np.linalg.eig(cov_matrix)  # eigen_values, eigen_vectors"
   ]
  },
  {
   "cell_type": "code",
   "execution_count": 21,
   "metadata": {},
   "outputs": [
    {
     "data": {
      "text/plain": [
       "array([0.52926066, 0.27133298, 0.09821584, 0.055184  , 0.04600652])"
      ]
     },
     "execution_count": 21,
     "metadata": {},
     "output_type": "execute_result"
    }
   ],
   "source": [
    "# total variance와 설명력 비교\n",
    "cov_sum = np.sum(np.linalg.eig(cov_matrix)[0])   # total variance\n",
    "np.linalg.eig(cov_matrix)[0]/cov_sum"
   ]
  },
  {
   "cell_type": "code",
   "execution_count": 22,
   "metadata": {},
   "outputs": [
    {
     "data": {
      "text/plain": [
       "array([0.00136768, 0.00070116, 0.0002538 , 0.0001426 , 0.00011889])"
      ]
     },
     "execution_count": 22,
     "metadata": {},
     "output_type": "execute_result"
    }
   ],
   "source": [
    "eigen_val = np.linalg.eig(cov_matrix)[0]\n",
    "# eigen_val = np.sort(eigen_val)\n",
    "eigen_val"
   ]
  },
  {
   "cell_type": "code",
   "execution_count": 23,
   "metadata": {
    "scrolled": true
   },
   "outputs": [
    {
     "data": {
      "image/png": "[encoded data removed]",
      "text/plain": [
       "<Figure size 432x288 with 1 Axes>"
      ]
     },
     "metadata": {
      "needs_background": "light"
     },
     "output_type": "display_data"
    }
   ],
   "source": [
    "# scree plot\n",
    "index=['PC1', 'PC2', 'PC3', 'PC4', 'PC5']\n",
    "plt.plot(index, eigen_val, 'ro-')\n",
    "plt.xlabel('Component Number')\n",
    "plt.ylabel('Variances')\n",
    "plt.title('Covariance Scree Diagram')\n",
    "plt.axhline(y=0.0005168258871215464, color='b', linewidth=2)  # Kaiser's rule\n",
    "plt.grid(True)\n",
    "plt.show()"
   ]
  },
  {
   "cell_type": "code",
   "execution_count": 14,
   "metadata": {},
   "outputs": [
    {
     "data": {
      "text/plain": [
       "0.0005168258871215464"
      ]
     },
     "execution_count": 14,
     "metadata": {},
     "output_type": "execute_result"
    }
   ],
   "source": [
    "# Kaiser's rule\n",
    "cov_sum/corr_sum   # 49보다 설명력 낮은 친구들은 버리기"
   ]
  },
  {
   "cell_type": "markdown",
   "metadata": {},
   "source": [
    "### Corr_matrix's Eigen values/vec"
   ]
  },
  {
   "cell_type": "code",
   "execution_count": 10,
   "metadata": {},
   "outputs": [
    {
     "data": {
      "text/plain": [
       "(array([2.43727312, 1.40701266, 0.25516988, 0.50051275, 0.40003159]),\n",
       " array([[ 0.46908321,  0.36800696,  0.3841216 ,  0.60431522,  0.36302278],\n",
       "        [ 0.53240549,  0.23646236, -0.49618794,  0.13610618, -0.6292079 ],\n",
       "        [ 0.46516333,  0.3151795 ,  0.07116948, -0.7718281 ,  0.28896583],\n",
       "        [ 0.38734594, -0.58503725,  0.59466408, -0.09336192, -0.38125151],\n",
       "        [ 0.36068206, -0.60584628, -0.49755167,  0.10882629,  0.49341454]]))"
      ]
     },
     "execution_count": 10,
     "metadata": {},
     "output_type": "execute_result"
    }
   ],
   "source": [
    "np.linalg.eig(corr_matrix)  # eigen_values, eigen_vectors"
   ]
  },
  {
   "cell_type": "code",
   "execution_count": 11,
   "metadata": {},
   "outputs": [
    {
     "data": {
      "text/plain": [
       "array([0.48745462, 0.28140253, 0.05103398, 0.10010255, 0.08000632])"
      ]
     },
     "execution_count": 11,
     "metadata": {},
     "output_type": "execute_result"
    }
   ],
   "source": [
    "# total variance와 설명력 비교\n",
    "corr_sum = np.sum(np.linalg.eig(corr_matrix)[0])  # total variance\n",
    "np.linalg.eig(corr_matrix)[0]/corr_sum"
   ]
  },
  {
   "cell_type": "code",
   "execution_count": 12,
   "metadata": {},
   "outputs": [
    {
     "data": {
      "text/plain": [
       "array([0.25516988, 0.40003159, 0.50051275, 1.40701266, 2.43727312])"
      ]
     },
     "execution_count": 12,
     "metadata": {},
     "output_type": "execute_result"
    }
   ],
   "source": [
    "eigen_val = np.linalg.eig(corr_matrix)[0]\n",
    "eigen_val = np.sort(eigen_val)\n",
    "eigen_val"
   ]
  },
  {
   "cell_type": "code",
   "execution_count": 13,
   "metadata": {},
   "outputs": [
    {
     "data": {
      "image/png": "[encoded data removed]",
      "text/plain": [
       "<Figure size 432x288 with 1 Axes>"
      ]
     },
     "metadata": {
      "needs_background": "light"
     },
     "output_type": "display_data"
    }
   ],
   "source": [
    "index=['PC1', 'PC2', 'PC3', 'PC4', 'PC5']\n",
    "plt.plot(index, [2.43727312, 1.40701266, 0.50051275, 0.40003159,0.25516988], 'bs-')\n",
    "plt.xlabel('Component Number')\n",
    "plt.ylabel('Variances')\n",
    "plt.title('Correlation Scree Diagram')\n",
    "plt.grid(True)\n",
    "plt.plot([1.0])\n",
    "plt.axhline(y=1, color='r', linewidth=2)\n",
    "plt.show()"
   ]
  },
  {
   "cell_type": "code",
   "execution_count": 19,
   "metadata": {},
   "outputs": [
    {
     "name": "stdout",
     "output_type": "stream",
     "text": [
      "평균 :  JP Morgan            0.001063\n",
      "Citibank             0.000655\n",
      "Wells Fargo          0.001626\n",
      "Royal Dutch Shell    0.004049\n",
      "Exxon Mobil          0.004039\n",
      "dtype: float64\n",
      "--------------------------\n",
      "분산 :  JP Morgan            0.000433\n",
      "Citibank             0.000439\n",
      "Wells Fargo          0.000224\n",
      "Royal Dutch Shell    0.000722\n",
      "Exxon Mobil          0.000766\n",
      "dtype: float64\n"
     ]
    }
   ],
   "source": [
    "print('평균 : ', dt.mean())\n",
    "print('--------------------------')\n",
    "print('분산 : ', dt.var())"
   ]
  },
  {
   "cell_type": "markdown",
   "metadata": {},
   "source": [
    "### PCA로 summarized된 변수 plotting"
   ]
  },
  {
   "cell_type": "code",
   "execution_count": 25,
   "metadata": {},
   "outputs": [
    {
     "data": {
      "text/html": [
       "<div>\n",
       "<style scoped>\n",
       "    .dataframe tbody tr th:only-of-type {\n",
       "        vertical-align: middle;\n",
       "    }\n",
       "\n",
       "    .dataframe tbody tr th {\n",
       "        vertical-align: top;\n",
       "    }\n",
       "\n",
       "    .dataframe thead th {\n",
       "        text-align: right;\n",
       "    }\n",
       "</style>\n",
       "<table border=\"1\" class=\"dataframe\">\n",
       "  <thead>\n",
       "    <tr style=\"text-align: right;\">\n",
       "      <th></th>\n",
       "      <th>JP Morgan</th>\n",
       "      <th>Citibank</th>\n",
       "      <th>Wells Fargo</th>\n",
       "      <th>Royal Dutch Shell</th>\n",
       "      <th>Exxon Mobil</th>\n",
       "    </tr>\n",
       "  </thead>\n",
       "  <tbody>\n",
       "    <tr>\n",
       "      <th>0</th>\n",
       "      <td>0.013034</td>\n",
       "      <td>-0.007843</td>\n",
       "      <td>-0.003189</td>\n",
       "      <td>-0.044769</td>\n",
       "      <td>0.005215</td>\n",
       "    </tr>\n",
       "    <tr>\n",
       "      <th>1</th>\n",
       "      <td>0.008486</td>\n",
       "      <td>0.016689</td>\n",
       "      <td>-0.006210</td>\n",
       "      <td>0.011956</td>\n",
       "      <td>0.013489</td>\n",
       "    </tr>\n",
       "    <tr>\n",
       "      <th>2</th>\n",
       "      <td>-0.017915</td>\n",
       "      <td>-0.008639</td>\n",
       "      <td>0.010036</td>\n",
       "      <td>0.000000</td>\n",
       "      <td>-0.006143</td>\n",
       "    </tr>\n",
       "    <tr>\n",
       "      <th>3</th>\n",
       "      <td>0.021559</td>\n",
       "      <td>-0.003486</td>\n",
       "      <td>0.017435</td>\n",
       "      <td>-0.028592</td>\n",
       "      <td>-0.006953</td>\n",
       "    </tr>\n",
       "    <tr>\n",
       "      <th>4</th>\n",
       "      <td>0.010822</td>\n",
       "      <td>0.003717</td>\n",
       "      <td>-0.010134</td>\n",
       "      <td>0.029190</td>\n",
       "      <td>0.040975</td>\n",
       "    </tr>\n",
       "  </tbody>\n",
       "</table>\n",
       "</div>"
      ],
      "text/plain": [
       "   JP Morgan  Citibank  Wells Fargo   Royal Dutch Shell  Exxon Mobil\n",
       "0   0.013034 -0.007843     -0.003189          -0.044769     0.005215\n",
       "1   0.008486  0.016689     -0.006210           0.011956     0.013489\n",
       "2  -0.017915 -0.008639      0.010036           0.000000    -0.006143\n",
       "3   0.021559 -0.003486      0.017435          -0.028592    -0.006953\n",
       "4   0.010822  0.003717     -0.010134           0.029190     0.040975"
      ]
     },
     "execution_count": 25,
     "metadata": {},
     "output_type": "execute_result"
    }
   ],
   "source": [
    "dt.head()"
   ]
  },
  {
   "cell_type": "code",
   "execution_count": 35,
   "metadata": {},
   "outputs": [],
   "source": [
    "from sklearn.decomposition import PCA  # 귀찮아서 그만 sklearn on.....\n",
    "pca = PCA(n_components=2)\n",
    "pc = pca.fit_transform(dt)"
   ]
  },
  {
   "cell_type": "code",
   "execution_count": 49,
   "metadata": {},
   "outputs": [
    {
     "data": {
      "text/plain": [
       "array([ 0.03111715, -0.01657136,  0.01499739,  0.02226933, -0.04140105,\n",
       "       -0.00202038, -0.02804685, -0.01518333,  0.04522015,  0.02271324,\n",
       "        0.02738595, -0.04899591, -0.01652541, -0.01867308,  0.04581489,\n",
       "        0.01577824, -0.00672806,  0.01218695,  0.02480953, -0.04070213,\n",
       "       -0.00018595, -0.02134285, -0.02627399,  0.02108251,  0.01993961,\n",
       "       -0.00121964,  0.01202055,  0.0394837 , -0.02635024,  0.04966461,\n",
       "       -0.02343585, -0.03481101, -0.01012921, -0.03495716,  0.00217259,\n",
       "       -0.0129892 ,  0.04888694, -0.03365189, -0.01178767,  0.0255964 ,\n",
       "        0.02917307, -0.04581363, -0.04587593, -0.02213877,  0.03369799,\n",
       "       -0.03679159,  0.02297076,  0.01775484,  0.00277074, -0.0593013 ,\n",
       "        0.01744257,  0.03970708, -0.00379576,  0.01354872, -0.02507689,\n",
       "       -0.09600734,  0.00112945, -0.04774968, -0.04710179, -0.02603222,\n",
       "        0.06313113,  0.00298335,  0.10085244, -0.02021337, -0.01032782,\n",
       "        0.07261822, -0.05280345,  0.02574443, -0.00429283,  0.09065749,\n",
       "       -0.03592503, -0.0408703 ,  0.00445027, -0.01195463, -0.06538815,\n",
       "        0.04374989, -0.01603512, -0.00377755,  0.02895484,  0.04162523,\n",
       "        0.01069948, -0.01553501, -0.06342909,  0.05004077,  0.04162495,\n",
       "       -0.06562741, -0.01759889, -0.01429699,  0.02051227,  0.00038911,\n",
       "        0.07242034,  0.02870642,  0.07421203, -0.06559044, -0.02545705,\n",
       "        0.01024187, -0.0446857 , -0.03669192,  0.0258285 ,  0.01183056,\n",
       "        0.0116337 ,  0.01601561,  0.02991004])"
      ]
     },
     "execution_count": 49,
     "metadata": {},
     "output_type": "execute_result"
    }
   ],
   "source": [
    "pc.T[0]"
   ]
  },
  {
   "cell_type": "code",
   "execution_count": 51,
   "metadata": {},
   "outputs": [
    {
     "data": {
      "text/plain": [
       "Text(0.5, 1.0, 'Scatter plot from principle components')"
      ]
     },
     "execution_count": 51,
     "metadata": {},
     "output_type": "execute_result"
    },
    {
     "data": {
      "image/png": "[encoded data removed]",
      "text/plain": [
       "<Figure size 432x288 with 1 Axes>"
      ]
     },
     "metadata": {
      "needs_background": "light"
     },
     "output_type": "display_data"
    }
   ],
   "source": [
    "plt.scatter(pc.T[0], pc.T[1])\n",
    "plt.title('Scatter plot from principle components')"
   ]
  }
 ],
 "metadata": {
  "kernelspec": {
   "display_name": "Python 3",
   "language": "python",
   "name": "python3"
  },
  "language_info": {
   "codemirror_mode": {
    "name": "ipython",
    "version": 3
   },
   "file_extension": ".py",
   "mimetype": "text/x-python",
   "name": "python",
   "nbconvert_exporter": "python",
   "pygments_lexer": "ipython3",
   "version": "3.7.7"
  }
 },
 "nbformat": 4,
 "nbformat_minor": 4
}
